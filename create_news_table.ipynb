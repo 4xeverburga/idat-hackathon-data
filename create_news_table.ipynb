{
 "cells": [
  {
   "cell_type": "code",
   "execution_count": 1,
   "metadata": {},
   "outputs": [
    {
     "name": "stdout",
     "output_type": "stream",
     "text": [
      "env: AWS_DEFAULT_PROFILE=protecso\n"
     ]
    }
   ],
   "source": [
    "%env AWS_DEFAULT_PROFILE=protecso"
   ]
  },
  {
   "cell_type": "code",
   "execution_count": 2,
   "metadata": {},
   "outputs": [],
   "source": [
    "import boto3\n",
    "import dynamodbgeo\n",
    "import uuid\n",
    "dynamodb = boto3.client('dynamodb', region_name='us-east-1')"
   ]
  },
  {
   "cell_type": "code",
   "execution_count": 3,
   "metadata": {},
   "outputs": [],
   "source": [
    "config = dynamodbgeo.GeoDataManagerConfiguration(dynamodb, 'news')\n",
    "geoDataManager = dynamodbgeo.GeoDataManager(config)"
   ]
  },
  {
   "cell_type": "code",
   "execution_count": 4,
   "metadata": {},
   "outputs": [
    {
     "name": "stdout",
     "output_type": "stream",
     "text": [
      "Creating table [news]\n",
      "Waiting for table [news] to be created\n",
      "Table created\n"
     ]
    }
   ],
   "source": [
    "# Pick a hashKeyLength appropriate to your usage\n",
    "config.hashKeyLength = 5\n",
    "\n",
    "# Use GeoTableUtil to help construct a CreateTableInput.\n",
    "table_util = dynamodbgeo.GeoTableUtil(config)\n",
    "create_table_input=table_util.getCreateTableRequest()\n",
    "\n",
    "#tweaking the base table parameters as a dict\n",
    "create_table_input[\"ProvisionedThroughput\"]['ReadCapacityUnits']=5\n",
    "\n",
    "# Use GeoTableUtil to create the table\n",
    "table_util.create_table(create_table_input)"
   ]
  },
  {
   "cell_type": "code",
   "execution_count": null,
   "metadata": {},
   "outputs": [
    {
     "data": {
      "text/plain": [
       "{'ResponseMetadata': {'RequestId': 'G3N4753TSSO43L8DT3OA4J064FVV4KQNSO5AEMVJF66Q9ASUAAJG',\n",
       "  'HTTPStatusCode': 200,\n",
       "  'HTTPHeaders': {'server': 'Server',\n",
       "   'date': 'Sun, 24 Nov 2024 03:36:17 GMT',\n",
       "   'content-type': 'application/x-amz-json-1.0',\n",
       "   'content-length': '2',\n",
       "   'connection': 'keep-alive',\n",
       "   'x-amzn-requestid': 'G3N4753TSSO43L8DT3OA4J064FVV4KQNSO5AEMVJF66Q9ASUAAJG',\n",
       "   'x-amz-crc32': '2745614147'},\n",
       "  'RetryAttempts': 0}}"
      ]
     },
     "execution_count": 6,
     "metadata": {},
     "output_type": "execute_result"
    }
   ],
   "source": [
    "# this is an example of how to put an item in the table\n",
    "PutItemInput = {\n",
    "\t'Item': {\n",
    "\t\t\t'Country': {'S': \"Peru\"},\n",
    "\t\t\t'Capital': {'S': \"Lima\"},\n",
    "\t\t\t'year': {'S': '1000'}\n",
    "\t},\n",
    "\t'ConditionExpression': \"attribute_not_exists(hashKey)\" # ... Anything else to pass through to `putItem`, eg ConditionExpression\n",
    "\n",
    "}\n",
    "geoDataManager.put_Point(dynamodbgeo.PutPointInput(\n",
    "\tdynamodbgeo.GeoPoint(36.879163, 10.243120), # latitude then latitude longitude\n",
    "\t str( uuid.uuid4()), # Use this to ensure uniqueness of the hash/range pairs.\n",
    "\t PutItemInput # pass the dict here\n",
    "\t))"
   ]
  },
  {
   "cell_type": "code",
   "execution_count": null,
   "metadata": {},
   "outputs": [],
   "source": [
    "import json \n",
    "# load base_data/maiz_exports.json\n",
    "with open('base_data/maiz_exports.json') as f:\n",
    "\tmaiz_exports_origin_data = json.load(f)"
   ]
  },
  {
   "cell_type": "code",
   "execution_count": 8,
   "metadata": {},
   "outputs": [
    {
     "data": {
      "text/plain": [
       "48"
      ]
     },
     "execution_count": 8,
     "metadata": {},
     "output_type": "execute_result"
    }
   ],
   "source": [
    "maiz_exports = maiz_exports_origin_data.get('news')\n",
    "len(maiz_exports)"
   ]
  },
  {
   "cell_type": "code",
   "execution_count": null,
   "metadata": {},
   "outputs": [
    {
     "ename": "SyntaxError",
     "evalue": "incomplete input (2271802512.py, line 2)",
     "output_type": "error",
     "traceback": [
      "\u001b[0;36m  Cell \u001b[0;32mIn[10], line 2\u001b[0;36m\u001b[0m\n\u001b[0;31m    \"\"\"\u001b[0m\n\u001b[0m    ^\u001b[0m\n\u001b[0;31mSyntaxError\u001b[0m\u001b[0;31m:\u001b[0m incomplete input\n"
     ]
    }
   ],
   "source": [
    "maiz_exports\n",
    "\"\"\"\n",
    "[{'id': 262001428,\n",
    "\t'title': 'Márgenes de exportación y molienda de soja negativos',\n",
    "\t'text': 'A los precios de mercado en todos los commodities, trigo, soja y maíz, tanto en el disponible como los precios futuros nueva cosecha, los márgenes de exportación son negativos. Esto quiere decir que los exportadores pierden plata si analizamos los precios FOB de mercado y los precios FAS teóricos resultantes. No se contempla en este análisis algún hipotético beneficio financiero que alguna empresa en forma individual pudiera tener.\\n\\nVeamos lo que sucede con el precio FOB de maíz para embarque abril/mayo: en estos momentos, está cotizando a U$S 199 la tonelada (U$S/tn), equivalente a un precio FAS teórico de 165 U$S/tn, mientras que el precio del mercado en el MATBA-Rofex está cotizando a 182 U$S/tn.\\n\\nLa diferencia de 17 U$S/tn es el precio que debería bajar el mercado para que la exportación tenga un margen cero, ni perdida ni ganancia. Resumiendo, el precio de ventana para el maíz nueva cosecha debería ser de 165 U$S/tn, en lugar de la cotización actual de 182 U$S/tn.\\n\\nLa pregunta del millón es ¿cuál será el precio del maíz nuevo cuando comience la cosecha en abril o mayo? Si uno se guía por el precio FAS teórico, el precio del maíz debería ser 165 U$S/tn, pero es muy difícil poder predecir en forma tan anticipada (faltan siete meses) a cuánto estará el mercado en la realidad.\\n\\nMientras tanto, los productores han comenzado a vender maíz forward nueva cosecha, posición mayo 2025, con un volumen registrado de ventas de 220 mil toneladas en la segunda semana de octubre.\\n\\nPor lo pronto, estamos viendo que Chicago muestra tendencia muy volátil y errática. Entre agosto y principios de octubre, el maíz en Chicago posición mayo subió 17 U$S/tn, entre principios y finales de octubre el mercado perdió 10 U$S/tn.\\n\\nEn el balance, la ganancia neta en el mercado fue de solamente 7 U$S/tn. Hay que destacar que estas variaciones que sufrió el mercado de Chicago no se trasladaron en forma lineal y automática a las cotizaciones del maíz sobre el mercado en Argentina. Este divorcio entre los dos mercados es consecuencia de la incertidumbre que existe con respecto al volumen de la cosecha de maíz en Brasil y en Argentina.\\n\\nPor su parte, la cosecha de maíz en Estados Unidos está a punto de concluir, y se espera que a partir de noviembre los precios sobre Chicago comiencen a consolidar una tendencia sostenida a firme.\\n\\nHarina de soja\\n\\nEn el caso de la soja, los márgenes de molienda, resultante a partir de la elaboración del poroto de soja y la consecuente producción de aceite y harina de soja, son negativos en 25 U$S/tn.\\n\\nEl precio de paridad para que la industria aceitera tenga margen de molienda “cero”, es decir, que no gane ni pierda plata, es de 264 U$S/tn, mientras que los precios en el MATBA-Rofex están cotizando a 289 U$S/tn.\\n\\nEn concreto, este resultado negativo del margen de molienda actúa como uno de los principales factores bajistas a la hora del ingreso de la nueva cosecha.\\n\\nSucede que con una siembra de soja en el orden de los 18 a 19 millones de hectáreas, podremos aspirar a tener una cosecha de soja en el rango de 52 a 55 millones de toneladas.\\n\\nCon este volumen de producción, más el ingreso de la soja de la cosecha anterior 2024, conocido como “carry-over”, estimado en 12 millones de toneladas, llegamos a un volumen de oferta global de 64 a 67 millones de toneladas.\\n\\nEste es el dato clave para el mercado, con semejante volumen de producción de soja de la nueva cosecha más el stock final de la cosecha 2024, no resiste que la industria aceitera acepte arrancar la nueva cosecha con márgenes de molienda negativos.\\n\\nDicho de otra forma, las chances de baja en el precio de la soja nueva de 25 U$S/tn es altamente probable.',\n",
    "\t'summary': '',\n",
    "\t'url': 'https://www.lavoz.com.ar/agro/agricultura/margenes-de-exportacion-y-molienda-de-soja-negativos/',\n",
    "\t'image': 'https://www.lavoz.com.ar/resizer/v2/T5XZZAGDLJFPDO2JKGW3BXKL3A.jpg?quality=75&smart=true&auth=65721a6ab7f4fb89b2f3ebd19a12bd96e6fafece241add524b7ee0068f0858ac&width=1200&height=630',\n",
    "\t'video': None,\n",
    "\t'publish_date': '2024-11-02 03:01:00',\n",
    "\t'author': 'Pablo Adreani',\n",
    "\t'authors': ['Pablo Adreani'],\n",
    "\t'language': 'es',\n",
    "\t'category': 'politics',\n",
    "\t'source_country': 'ar'},\n",
    "\"\"\""
   ]
  },
  {
   "cell_type": "code",
   "execution_count": null,
   "metadata": {},
   "outputs": [
    {
     "name": "stdout",
     "output_type": "stream",
     "text": [
      "Si.\n",
      "Noticias sobre márgenes negativos de exportación pueden afectar directamente las decisiones de exportación agrícola de Perú al afectar la rentabilidad.\n",
      "si\n",
      "Si.\n",
      "Este crecimiento en las exportaciones de maíz podría influir positivamente en decisiones de exportación y cultivo de maíz en Perú, considerando tendencias de mercado y demanda.\n",
      "si\n",
      "Si.\n",
      "La caída en los precios internacionales de soja y maíz altera las variables de comercialización y puede impactar las exportaciones peruanas en términos de competitividad y estrategia de mercado.\n",
      "si\n",
      "Si.\n",
      "La caída de precios en los cereales podría influir en las decisiones de exportación y precios de productos peruanos relacionados al maíz y al trigo.\n",
      "si\n",
      "No.\n",
      "No.\n",
      "Si.\n",
      "El aumento en la molienda de soja indica una recuperación en esta industria crucial para la exportación, relevante para la planificación de ventas internacionales.\n",
      "si\n",
      "No.\n",
      "No.\n",
      "No.\n",
      "No.\n",
      "Si.\n",
      "La falta de diésel puede afectar directamente la producción y exportación agrícola en Bolivia, elemento crítico para planificar exportaciones desde Perú.\n",
      "si\n",
      "No.\n",
      "Si.\n",
      "La noticia menciona la expansión internacional de una empresa agtech dedicada a bioinsumos, lo cual es relevante para entender tendencias y oportunidades en el sector agrícola y su exportación.\n",
      "si\n",
      "No.\n",
      "No.\n",
      "No.\n",
      "No.\n",
      "Si.\n",
      "La noticia es relevante porque factores como el clima y el contexto económico impactan directamente en la planificación de la exportación agrícola.\n",
      "si\n",
      "Si.\n",
      "La demanda de incentivos por parte de los productores debido al incremento en el costo del diésel impacta directamente en los costos de producción agrícola y, por ende, en la planificación de exportaciones.\n",
      "si\n",
      "No.\n",
      "No.\n",
      "No.\n",
      "No.\n",
      "No.\n",
      "Si.\n",
      "Es relevante dado que el rechazo al acuerdo Mercosur puede influir en las políticas de exportación y acuerdos comerciales que Perú puede buscar o reconsiderar en el futuro con la Unión Europea o el bloque de Mercosur.\n",
      "si\n",
      "Si.\n",
      "El impacto del bloqueo en la siembra agrícola puede alterar los planes de exportación y producción en Perú, necesitando reajustes estratégicos.\n",
      "si\n",
      "No.\n",
      "Si.\n",
      "Este tipo de noticia es relevante porque indica interrupciones en la siembra y producción agrícola que podrían influir en la planificación de la exportación de productos agrícolas de Perú.\n",
      "si\n",
      "Si.\n",
      "La crisis hídrica en Piura impacta directamente la producción agrícola, lo cual es relevante para planificar las exportaciones y considerar ajustes en las estrategias de cultivo y abastecimiento de agua.\n",
      "si\n",
      "No.\n",
      "No.\n",
      "No.\n",
      "No.\n",
      "No.\n",
      "No.\n",
      "Si.\n",
      "La expansión de infraestructura portuaria controlada por China puede afectar directamente la logística de exportación de productos agrícolas peruanos.\n",
      "si\n",
      "Si.\n",
      "El incremento en los precios mundiales de los alimentos podría influir en las decisiones de exportación agrícola de Perú, afectando tanto precio como demanda.\n",
      "si\n",
      "No.\n",
      "No.\n",
      "Si.\n",
      "La subida en los precios de alimentos a nivel mundial puede influir directamente en la demandabilidad y precios de las exportaciones agrícolas de Perú.\n",
      "si\n",
      "No.\n",
      "No.\n",
      "No.\n",
      "No.\n",
      "No.\n",
      "No.\n",
      "No.\n"
     ]
    }
   ],
   "source": [
    "from dotenv import load_dotenv\n",
    "load_dotenv() # OPENAI_API_KEY\n",
    "\n",
    "from openai import OpenAI\n",
    "client = OpenAI()\n",
    "\n",
    "\n",
    "system_prompt = '' # load text from file system_prompt.txt\n",
    "with open('system_prompt.txt') as f:\n",
    "\tsystem_prompt = f.read()\n",
    "\n",
    "user_example = ''\n",
    "with open('user_example.txt') as f:\n",
    "\tuser_example = f.read()\n",
    "\t\t\n",
    "assistant_example = ''\n",
    "with open('assistant_example.txt') as f:\n",
    "\tassistant_example = f.read()\n",
    "\n",
    "\n",
    "\n",
    "\n",
    "useful_news_for_maiz_exports = []\n",
    "for item in maiz_exports:\n",
    "\ttitle = item.get('title')\n",
    "\t# the summary is either the attribute summary if not None or the first 200 characters of 'text'\n",
    "\tsummary = item.get('summary') or item.get('text')[:200]\n",
    "\t\n",
    "\tcompletion = client.chat.completions.create(\n",
    "\t\tmodel=\"gpt-4-turbo\",\n",
    "\t\tmessages=[\n",
    "\t\t\t{\"role\": \"system\", \"content\": system_prompt},\n",
    "\t\t\t{\n",
    "\t\t\t\t\"role\": \"user\",\n",
    "\t\t\t\t\"content\": user_example\n",
    "\t\t\t},\n",
    "\t\t\t{\n",
    "\t\t\t\t\"role\": \"assistant\",\n",
    "\t\t\t\t\"content\": assistant_example\n",
    "\t\t\t},\n",
    "\t\t\t{\n",
    "\t\t\t\t\"role\": \"user\",\n",
    "\t\t\t\t\"content\": f\"<news>{title}\\n{summary}</news>\"\n",
    "\t\t\t}\n",
    "\t\t]\n",
    "\t)\n",
    "\ttry:\n",
    "\t\tcompletion = str(completion.choices[0].message.content)\n",
    "\t\tprint(completion)\n",
    "\t\tif 'si.' in completion.lower():\n",
    "\t\t\titem['insight'] = completion\n",
    "\t\t\tuseful_news_for_maiz_exports.append(item)\n",
    "\t\t\tprint('si')\n",
    "\texcept:\n",
    "\t\tcontinue"
   ]
  },
  {
   "cell_type": "code",
   "execution_count": 27,
   "metadata": {},
   "outputs": [
    {
     "data": {
      "text/plain": [
       "16"
      ]
     },
     "execution_count": 27,
     "metadata": {},
     "output_type": "execute_result"
    }
   ],
   "source": [
    "len(useful_news_for_maiz_exports)"
   ]
  },
  {
   "cell_type": "code",
   "execution_count": null,
   "metadata": {},
   "outputs": [],
   "source": [
    "# now the same but load the csv cultivos\n",
    "import pandas as pd\n",
    "df = pd.read_csv('base_data/cultivos.csv')\n",
    "df\n",
    "\n",
    "cultivos = df.to_dict('records')\n",
    "cultivos\n",
    "\n",
    "useful_news_for_cultivos = []\n",
    "for item in cultivos:\n",
    "\ttitle = item.get('title')\n",
    "\t# the summary is either the attribute summary if not None or the first 200 characters of 'text'\n",
    "\tsummary = item.get('summary') or item.get('text')[:200]\n",
    "\t\n",
    "\tcompletion = client.chat.completions.create(\n",
    "\t\tmodel=\"gpt-4-turbo\",\n",
    "\t\tmessages=[\n",
    "\t\t\t{\"role\": \"system\", \"content\": system_prompt},\n",
    "\t\t\t{\n",
    "\t\t\t\t\"role\": \"user\",\n",
    "\t\t\t\t\"content\": user_example\n",
    "\t\t\t},\n",
    "\t\t\t{\n",
    "\t\t\t\t\"role\": \"assistant\",\n",
    "\t\t\t\t\"content\": assistant_example\n",
    "\t\t\t},\n",
    "\t\t\t{\n",
    "\t\t\t\t\"role\": \"user\",\n",
    "\t\t\t\t\"content\": f\"<news>{title}\\n{summary}</news>\"\n",
    "\t\t\t}\n",
    "\t\t]\n",
    "\t)\n",
    "\ttry:\n",
    "\t\tcompletion = str(completion.choices[0].message.content)\n",
    "\t\tprint(completion)\n",
    "\t\tif 'si.' in completion.lower():\n",
    "\t\t\titem['insight'] = completion\n",
    "\t\t\tuseful_news_for_cultivos.append(item)\n",
    "\t\t\tprint('si')\n",
    "\texcept:\n",
    "\t\tcontinue\n",
    "\n",
    "len(useful_news_for_cultivos)"
   ]
  },
  {
   "cell_type": "code",
   "execution_count": 28,
   "metadata": {},
   "outputs": [],
   "source": [
    "# save json for maiz exports as news1.json {news:useful_news}\n",
    "with open('news1.json', 'w') as f:\n",
    "\tjson.dump({'news':useful_news_for_maiz_exports}, f)"
   ]
  },
  {
   "cell_type": "code",
   "execution_count": 29,
   "metadata": {},
   "outputs": [],
   "source": [
    "# retrieve the name of the source countries in the list of useful news\n",
    "countries = []\n",
    "for item in useful_news_for_maiz_exports:\n",
    "\tcountries.append(item.get('source_country'))"
   ]
  },
  {
   "cell_type": "code",
   "execution_count": 30,
   "metadata": {},
   "outputs": [
    {
     "data": {
      "text/plain": [
       "['bo', 'cu', 'es', 'ar', 'pe']"
      ]
     },
     "execution_count": 30,
     "metadata": {},
     "output_type": "execute_result"
    }
   ],
   "source": [
    "# print all the unq countries\n",
    "countries = list(set(countries))\n",
    "countries"
   ]
  },
  {
   "cell_type": "code",
   "execution_count": 32,
   "metadata": {},
   "outputs": [],
   "source": [
    "# countries locations [lat, lon]\n",
    "countries_locations = {\n",
    "\t'ar':[ -34.9964963, -64.9672817],\n",
    "\t'uy':[-32.522779, -55.765835],\n",
    "\t'br':[-14.235004, -51.92528],\n",
    "\t'py':[-23.442503, -58.443832],\n",
    "\t'bo':[-16.290154, -63.588653],\n",
    "\t'cl':[-35.675147, -71.542969],\n",
    "\t'pe':[-9.189967, -75.015152],\n",
    "\t'co':[4.570868, -74.297333],\n",
    "\t'ec':[-1.831239, -78.183406],\n",
    "\t've':[6.42375, -66.58973],\n",
    "\t'gt':[15.783471, -90.230759],\n",
    "\t'hn':[15.199999, -86.241905],\n",
    "\t'sv':[13.794185, -88.89653],\n",
    "\t'ni':[12.865416, -85.207229],\n",
    "\t'cr':[9.748917, -83.753428],\n",
    "\t'pa':[8.537981, -80.782127],\n",
    "\t'cu':[21.521757, -77.781167],\n",
    "\t'do':[18.735693, -70.162651],\n",
    "\t'pr':[18.220833, -66.590149],\n",
    "\t'mx':[23.634501, -102.552784],\n",
    "\t'us':[37.09024, -95.712891],\n",
    "\t'es':[40.463667, -3.74922],\n",
    "\t'fr':[46.603354, 1.888334],\n",
    "\t'it':[41.87194, 12.56738],\n",
    "\t'de':[51.165691, 10.451526],\n",
    "\t'jp':[36.204824, 138.252924],\n",
    "\t'cn':[35.86166, 104.195397],\n",
    "\t'ru':[61.52401, 105.318756],\n",
    "}"
   ]
  },
  {
   "cell_type": "code",
   "execution_count": 33,
   "metadata": {},
   "outputs": [],
   "source": [
    "# add lat, lon to the items and then save again as news.json\n",
    "for item in useful_news_for_maiz_exports:\n",
    "\titem['lat'] = countries_locations.get(item.get('source_country'))[0]\n",
    "\titem['lon'] = countries_locations.get(item.get('source_country'))[1]"
   ]
  },
  {
   "cell_type": "code",
   "execution_count": 34,
   "metadata": {},
   "outputs": [],
   "source": [
    "with open('news.json', 'w') as f:\n",
    "\tjson.dump({'news':useful_news_for_maiz_exports}, f)"
   ]
  }
 ],
 "metadata": {
  "kernelspec": {
   "display_name": ".venv",
   "language": "python",
   "name": "python3"
  },
  "language_info": {
   "codemirror_mode": {
    "name": "ipython",
    "version": 3
   },
   "file_extension": ".py",
   "mimetype": "text/x-python",
   "name": "python",
   "nbconvert_exporter": "python",
   "pygments_lexer": "ipython3",
   "version": "3.12.0"
  }
 },
 "nbformat": 4,
 "nbformat_minor": 2
}
