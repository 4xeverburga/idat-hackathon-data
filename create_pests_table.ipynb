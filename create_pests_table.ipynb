{
 "cells": [
  {
   "cell_type": "code",
   "execution_count": 1,
   "metadata": {},
   "outputs": [
    {
     "name": "stdout",
     "output_type": "stream",
     "text": [
      "env: AWS_DEFAULT_PROFILE=protecso\n"
     ]
    }
   ],
   "source": [
    "%env AWS_DEFAULT_PROFILE=protecso"
   ]
  },
  {
   "cell_type": "code",
   "execution_count": 2,
   "metadata": {},
   "outputs": [],
   "source": [
    "import boto3\n",
    "import dynamodbgeo\n",
    "import uuid\n",
    "dynamodb = boto3.client('dynamodb', region_name='us-east-1')"
   ]
  },
  {
   "cell_type": "code",
   "execution_count": 3,
   "metadata": {},
   "outputs": [],
   "source": [
    "config = dynamodbgeo.GeoDataManagerConfiguration(dynamodb, 'pest_reports')\n",
    "geoDataManager = dynamodbgeo.GeoDataManager(config)"
   ]
  },
  {
   "cell_type": "code",
   "execution_count": null,
   "metadata": {},
   "outputs": [
    {
     "name": "stdout",
     "output_type": "stream",
     "text": [
      "Creating table [pest_reports]\n",
      "Waiting for table [pest_reports] to be created\n",
      "Table created\n"
     ]
    }
   ],
   "source": [
    "# Pick a hashKeyLength appropriate to your usage\n",
    "config.hashKeyLength = 5\n",
    "\n",
    "# Use GeoTableUtil to help construct a CreateTableInput.\n",
    "table_util = dynamodbgeo.GeoTableUtil(config)\n",
    "create_table_input=table_util.getCreateTableRequest()\n",
    "\n",
    "#tweaking the base table parameters as a dict\n",
    "create_table_input[\"ProvisionedThroughput\"]['ReadCapacityUnits']=5\n",
    "\n",
    "# Use GeoTableUtil to create the table\n",
    "table_util.create_table(create_table_input)"
   ]
  },
  {
   "cell_type": "code",
   "execution_count": null,
   "metadata": {},
   "outputs": [
    {
     "data": {
      "text/plain": [
       "{'ResponseMetadata': {'RequestId': 'G3N4753TSSO43L8DT3OA4J064FVV4KQNSO5AEMVJF66Q9ASUAAJG',\n",
       "  'HTTPStatusCode': 200,\n",
       "  'HTTPHeaders': {'server': 'Server',\n",
       "   'date': 'Sun, 24 Nov 2024 03:36:17 GMT',\n",
       "   'content-type': 'application/x-amz-json-1.0',\n",
       "   'content-length': '2',\n",
       "   'connection': 'keep-alive',\n",
       "   'x-amzn-requestid': 'G3N4753TSSO43L8DT3OA4J064FVV4KQNSO5AEMVJF66Q9ASUAAJG',\n",
       "   'x-amz-crc32': '2745614147'},\n",
       "  'RetryAttempts': 0}}"
      ]
     },
     "execution_count": 6,
     "metadata": {},
     "output_type": "execute_result"
    }
   ],
   "source": [
    "# this is an example of how to put an item in the table\n",
    "PutItemInput = {\n",
    "        'Item': {\n",
    "            'Country': {'S': \"Peru\"},\n",
    "            'Capital': {'S': \"Lima\"},\n",
    "            'year': {'S': '1000'}\n",
    "        },\n",
    "        'ConditionExpression': \"attribute_not_exists(hashKey)\" # ... Anything else to pass through to `putItem`, eg ConditionExpression\n",
    "\n",
    "}\n",
    "geoDataManager.put_Point(dynamodbgeo.PutPointInput(\n",
    "        dynamodbgeo.GeoPoint(36.879163, 10.243120), # latitude then latitude longitude\n",
    "         str( uuid.uuid4()), # Use this to ensure uniqueness of the hash/range pairs.\n",
    "         PutItemInput # pass the dict here\n",
    "        ))"
   ]
  },
  {
   "cell_type": "code",
   "execution_count": 11,
   "metadata": {},
   "outputs": [],
   "source": [
    "# i want to generate synthetic inside some 4 vertex regions with this coordinates:\n",
    "regions = [\n",
    "\t{\n",
    "\t\t'name': 'Acolla',\n",
    "\t\t'vertexA': [-11.690196, -75.589006],\n",
    "\t\t'vertexB': [-11.684839, -75.562477],\n",
    "\t\t'vertexC': [-11.690196, -75.589006],\n",
    "\t\t'vertexD': [-11.690196, -75.589006]\n",
    "\t},\n",
    "\t{\n",
    "\t\t'name': 'Matahuasi',\n",
    "\t\t'vertexA': [-11.801587, -75.502701],\n",
    "\t\t'vertexB': [-11.935018, -75.356133],\n",
    "\t\t'vertexC': [-11.876565, -75.275109],\n",
    "\t\t'vertexD': [-11.770377, -75.397332]\n",
    "\t},\n",
    "\t]\n",
    "\n",
    "\n",
    "# any input point generated should have the following structure\n",
    "\"\"\"\n",
    "The | separator means that the data must take a value from the values separated by |\n",
    "input_data =\n",
    "{\n",
    "\tItem': {\n",
    "            'country': {'S': \"Peru\"},\n",
    "            'region': {'S': \"Acolla | Matahuasi\"},\n",
    "            'date': {'S': 'iso date (day) string ranging from 2024-11-20 to 2024-11-24'},\n",
    "\t\t\t\t\t\t'pest': {'S': 'Podredumbre blanca | Moho gris | Mosca minadora | Polilla de calabaza | Araña roja'}\n",
    "\t\t\t\t\t\t'description': {'S': '\n",
    "        },\n",
    "        'ConditionExpression': \"attribute_not_exists(hashKey)\" \n",
    "}\n",
    "\n",
    "if Acolla or if Matahuasi then generate generated_point = dynamodbgeo.GeoPoint(lat,lon)\n",
    "\n",
    "then put point in the table\n",
    "geoDataManager.put_Point(dynamodbgeo.PutPointInput(\n",
    "        generated_point, # latitude then latitude longitude\n",
    "         str( uuid.uuid4()), # Use this to ensure uniqueness of the hash/range pairs.\n",
    "         input_item # pass the dict here\n",
    "        ))\n",
    "\"\"\"\n",
    "\n",
    "pests = { # match a pest with a litle description including 1) What crops affects (max 5) 2) what it does 3) how to act against it\n",
    "\t'Podredumbre blanca' : 'Afecta a la lechuga, tomate, pimiento, pepino y calabaza. Causa la descomposición de los tejidos de la planta. Usar fungicidas',\n",
    "\t'Moho gris' : 'Afecta a la uva, fresa, tomate, manzana y pera. Causa la descomposición de los tejidos de la planta. Usar fungicidas',\n",
    "\t'Mosca minadora' : 'Afecta a la papa, tomate, pimiento, pepino y calabaza. Las larvas se alimentan de los tejidos de la planta. Usar insecticidas',\n",
    "\t'Polilla de calabaza' : 'Afecta a la calabaza, pepino, pimiento, tomate y sandía. Las larvas se alimentan de los tejidos de la planta. Usar insecticidas',\n",
    "\t'Araña roja' : 'Afecta a la papa, tomate, pimiento, pepino y calabaza. Las larvas se alimentan de los tejidos de la planta. Usar insecticidas'\n",
    "}\n",
    "\n",
    "# generate 500 points and their input data associated\n",
    "import random\n",
    "import datetime\n",
    "data = [] # [(input_data, generated_point)]\n",
    "for i in range(500):\n",
    "\t# generate a point in the region\n",
    "\tregion = regions[i%2]\n",
    "\t# lat and lon should be inside the 4 vertex. Maybe you can generate the points in a radius from the center of the region\n",
    "\t# first calculate the center of the 4 points. Then calculate an apropiate radius\n",
    "\tcenter_lat = (region['vertexA'][0] + region['vertexB'][0] + region['vertexC'][0] + region['vertexD'][0])/4\n",
    "\tcenter_lon = (region['vertexA'][1] + region['vertexB'][1] + region['vertexC'][1] + region['vertexD'][1])/4\n",
    "\t# calculate the radius as the the min distance from any 2 vertex\n",
    "\tradius = min(\n",
    "\t\t((region['vertexA'][0] - region['vertexB'][0])**2 + (region['vertexA'][1] - region['vertexB'][1])**2)**0.5,\n",
    "\t\t((region['vertexB'][0] - region['vertexC'][0])**2 + (region['vertexB'][1] - region['vertexC'][1])**2)**0.5,\n",
    "\t\t((region['vertexC'][0] - region['vertexD'][0])**2 + (region['vertexC'][1] - region['vertexD'][1])**2)**0.5,\n",
    "\t\t((region['vertexD'][0] - region['vertexA'][0])**2 + (region['vertexD'][1] - region['vertexA'][1])**2)**0.5\n",
    "\t)\n",
    "\tcorrected_radius = radius/2\n",
    "\tlat = center_lat + random.uniform(-corrected_radius,corrected_radius)\n",
    "\tlon = center_lon + random.uniform(-corrected_radius, corrected_radius)\n",
    "\n",
    "\t# generate a date\n",
    "\tdate = datetime.date(2024, 11, random.randint(1, 24))\n",
    "\t# generate a pest\n",
    "\tpest = random.choice(['Podredumbre blanca', 'Moho gris', 'Mosca minadora', 'Polilla de calabaza', 'Araña roja'])\n",
    "\n",
    "\tdesc = pests.get(pest,'')\n",
    "\n",
    "\t# generate the input data\n",
    "\tinput_data = {\n",
    "\t\t'Item': {\n",
    "            'country': {'S': \"Peru\"},\n",
    "            'region': {'S': region['name']},\n",
    "            'date': {'S': date.isoformat()},\n",
    "\t\t\t\t\t\t'pest': {'S': pest},\n",
    "\t\t\t\t\t\t'description': {'S': desc}\n",
    "        },\n",
    "        'ConditionExpression': \"attribute_not_exists(hashKey)\" \n",
    "\t}\n",
    "\t# generate the point\n",
    "\tgenerated_point = dynamodbgeo.GeoPoint(lat,lon)\n",
    "\tdata.append((input_data, generated_point))# \n"
   ]
  },
  {
   "cell_type": "code",
   "execution_count": 12,
   "metadata": {},
   "outputs": [],
   "source": [
    "# put the data in the table\n",
    "for input_data, generated_point in data:\n",
    "\tgeoDataManager.put_Point(dynamodbgeo.PutPointInput(\n",
    "        generated_point, # latitude then latitude longitude\n",
    "         str( uuid.uuid4()), # Use this to ensure uniqueness of the hash/range pairs.\n",
    "         input_data # pass the dict here\n",
    "        ))"
   ]
  },
  {
   "cell_type": "code",
   "execution_count": 16,
   "metadata": {},
   "outputs": [
    {
     "data": {
      "text/plain": [
       "<function print(*args, sep=' ', end='\\n', file=None, flush=False)>"
      ]
     },
     "execution_count": 16,
     "metadata": {},
     "output_type": "execute_result"
    }
   ],
   "source": [
    "# save the data in a json format as pests.json\n",
    "\"\"\"\n",
    "\t{\n",
    "            'country':  \"Peru\",\n",
    "            'region': \"Acolla | Matahuasi\",\n",
    "            'date': 'isodate',\n",
    "\t\t\t\t\t\t'pest': \"\",\n",
    "\t\t\t\t\t\t'description': \"\",\n",
    "\t\t\t\t\t\t'lat': float,\n",
    "\t\t\t\t\t\t'lon': float\n",
    "        },\n",
    "\"\"\"\n",
    "\n",
    "import json\n",
    "data_json = []\n",
    "for input_data, generated_point in data:\n",
    "\tdata_json.append({\n",
    "\t\t'country':  \"Peru\",\n",
    "        'region': input_data['Item']['region']['S'],\n",
    "        'date': input_data['Item']['date']['S'],\n",
    "\t\t'pest': input_data['Item']['pest']['S'],\n",
    "\t\t'description': input_data['Item']['description']['S'],\n",
    "\t\t'lat': generated_point.latitude,\n",
    "\t\t'lon': generated_point.longitude\n",
    "\t})\n",
    "\n",
    "\n",
    "pests_dict = {\"pests\":data_json}\n",
    "\n",
    "with open('pests.json', 'w') as f:\n",
    "\tjson.dump(pests_dict, f)\n",
    "print"
   ]
  },
  {
   "cell_type": "code",
   "execution_count": 11,
   "metadata": {},
   "outputs": [
    {
     "data": {
      "text/plain": [
       "[{'Capital': {'S': 'Lima'},\n",
       "  'hashKey': {'N': '136'},\n",
       "  'geoJson': {'S': '36.879163,10.24312'},\n",
       "  'Country': {'S': 'Peru'},\n",
       "  'rangeKey': {'S': '387df65c-452f-4dfe-8494-73c0cec9f48b'},\n",
       "  'geohash': {'N': '1360872775087296659'},\n",
       "  'year': {'S': '1000'}}]"
      ]
     },
     "execution_count": 11,
     "metadata": {},
     "output_type": "execute_result"
    }
   ],
   "source": [
    "# Querying 95 meter from the center point (36.879131, 10.243057)\n",
    "QueryRadiusInput={\n",
    "        \"FilterExpression\": \"Country = :val1\",\n",
    "        \"ExpressionAttributeValues\": {\n",
    "            \":val1\": {\"S\": \"Peru\"},\n",
    "        }\n",
    "    }\n",
    "\n",
    "query_reduis_result=geoDataManager.queryRadius(\n",
    "    dynamodbgeo.QueryRadiusRequest(\n",
    "        dynamodbgeo.GeoPoint(36.879131, 10.243057), # center point\n",
    "        95, QueryRadiusInput, sort = True)) # diameter\n",
    "\n",
    "query_reduis_result"
   ]
  }
 ],
 "metadata": {
  "kernelspec": {
   "display_name": ".venv",
   "language": "python",
   "name": "python3"
  },
  "language_info": {
   "codemirror_mode": {
    "name": "ipython",
    "version": 3
   },
   "file_extension": ".py",
   "mimetype": "text/x-python",
   "name": "python",
   "nbconvert_exporter": "python",
   "pygments_lexer": "ipython3",
   "version": "3.12.0"
  }
 },
 "nbformat": 4,
 "nbformat_minor": 2
}
