{
 "cells": [
  {
   "cell_type": "code",
   "execution_count": 1,
   "metadata": {},
   "outputs": [
    {
     "name": "stdout",
     "output_type": "stream",
     "text": [
      "env: AWS_DEFAULT_PROFILE=protecso\n"
     ]
    }
   ],
   "source": [
    "%env AWS_DEFAULT_PROFILE=protecso"
   ]
  },
  {
   "cell_type": "code",
   "execution_count": 2,
   "metadata": {},
   "outputs": [],
   "source": [
    "import boto3\n",
    "import dynamodbgeo\n",
    "import uuid\n",
    "dynamodb = boto3.client('dynamodb', region_name='us-east-1')"
   ]
  },
  {
   "cell_type": "code",
   "execution_count": 3,
   "metadata": {},
   "outputs": [],
   "source": [
    "config = dynamodbgeo.GeoDataManagerConfiguration(dynamodb, 'climate')\n",
    "geoDataManager = dynamodbgeo.GeoDataManager(config)"
   ]
  },
  {
   "cell_type": "code",
   "execution_count": 4,
   "metadata": {},
   "outputs": [
    {
     "name": "stdout",
     "output_type": "stream",
     "text": [
      "Creating table [climate]\n",
      "Waiting for table [climate] to be created\n",
      "Table created\n"
     ]
    }
   ],
   "source": [
    "# Pick a hashKeyLength appropriate to your usage\n",
    "config.hashKeyLength = 5\n",
    "\n",
    "# Use GeoTableUtil to help construct a CreateTableInput.\n",
    "table_util = dynamodbgeo.GeoTableUtil(config)\n",
    "create_table_input=table_util.getCreateTableRequest()\n",
    "\n",
    "#tweaking the base table parameters as a dict\n",
    "create_table_input[\"ProvisionedThroughput\"]['ReadCapacityUnits']=5\n",
    "\n",
    "# Use GeoTableUtil to create the table\n",
    "table_util.create_table(create_table_input)"
   ]
  },
  {
   "cell_type": "code",
   "execution_count": null,
   "metadata": {},
   "outputs": [
    {
     "data": {
      "text/plain": [
       "{'ResponseMetadata': {'RequestId': 'G3N4753TSSO43L8DT3OA4J064FVV4KQNSO5AEMVJF66Q9ASUAAJG',\n",
       "  'HTTPStatusCode': 200,\n",
       "  'HTTPHeaders': {'server': 'Server',\n",
       "   'date': 'Sun, 24 Nov 2024 03:36:17 GMT',\n",
       "   'content-type': 'application/x-amz-json-1.0',\n",
       "   'content-length': '2',\n",
       "   'connection': 'keep-alive',\n",
       "   'x-amzn-requestid': 'G3N4753TSSO43L8DT3OA4J064FVV4KQNSO5AEMVJF66Q9ASUAAJG',\n",
       "   'x-amz-crc32': '2745614147'},\n",
       "  'RetryAttempts': 0}}"
      ]
     },
     "execution_count": 6,
     "metadata": {},
     "output_type": "execute_result"
    }
   ],
   "source": [
    "# this is an example of how to put an item in the table\n",
    "PutItemInput = {\n",
    "        'Item': {\n",
    "            'Country': {'S': \"Peru\"},\n",
    "            'Capital': {'S': \"Lima\"},\n",
    "            'year': {'S': '1000'}\n",
    "        },\n",
    "        'ConditionExpression': \"attribute_not_exists(hashKey)\" # ... Anything else to pass through to `putItem`, eg ConditionExpression\n",
    "\n",
    "}\n",
    "geoDataManager.put_Point(dynamodbgeo.PutPointInput(\n",
    "        dynamodbgeo.GeoPoint(36.879163, 10.243120), # latitude then latitude longitude\n",
    "         str( uuid.uuid4()), # Use this to ensure uniqueness of the hash/range pairs.\n",
    "         PutItemInput # pass the dict here\n",
    "        ))"
   ]
  },
  {
   "cell_type": "code",
   "execution_count": 26,
   "metadata": {},
   "outputs": [
    {
     "data": {
      "text/html": [
       "<div>\n",
       "<style scoped>\n",
       "    .dataframe tbody tr th:only-of-type {\n",
       "        vertical-align: middle;\n",
       "    }\n",
       "\n",
       "    .dataframe tbody tr th {\n",
       "        vertical-align: top;\n",
       "    }\n",
       "\n",
       "    .dataframe thead th {\n",
       "        text-align: right;\n",
       "    }\n",
       "</style>\n",
       "<table border=\"1\" class=\"dataframe\">\n",
       "  <thead>\n",
       "    <tr style=\"text-align: right;\">\n",
       "      <th></th>\n",
       "      <th>DISTRITO</th>\n",
       "      <th>AÑO</th>\n",
       "      <th>MES</th>\n",
       "      <th>DÍA</th>\n",
       "      <th>PRECIPITACIÓN</th>\n",
       "      <th>T MAX</th>\n",
       "      <th>T MINIMA</th>\n",
       "    </tr>\n",
       "  </thead>\n",
       "  <tbody>\n",
       "    <tr>\n",
       "      <th>0</th>\n",
       "      <td>VIQUES</td>\n",
       "      <td>2010</td>\n",
       "      <td>1</td>\n",
       "      <td>1</td>\n",
       "      <td>0.0</td>\n",
       "      <td>21.4</td>\n",
       "      <td>7.8</td>\n",
       "    </tr>\n",
       "    <tr>\n",
       "      <th>1</th>\n",
       "      <td>VIQUES</td>\n",
       "      <td>2010</td>\n",
       "      <td>1</td>\n",
       "      <td>2</td>\n",
       "      <td>8.8</td>\n",
       "      <td>19.8</td>\n",
       "      <td>7.8</td>\n",
       "    </tr>\n",
       "    <tr>\n",
       "      <th>2</th>\n",
       "      <td>VIQUES</td>\n",
       "      <td>2010</td>\n",
       "      <td>1</td>\n",
       "      <td>3</td>\n",
       "      <td>2.5</td>\n",
       "      <td>20.8</td>\n",
       "      <td>8.8</td>\n",
       "    </tr>\n",
       "    <tr>\n",
       "      <th>3</th>\n",
       "      <td>VIQUES</td>\n",
       "      <td>2010</td>\n",
       "      <td>1</td>\n",
       "      <td>4</td>\n",
       "      <td>8.5</td>\n",
       "      <td>18.9</td>\n",
       "      <td>9.1</td>\n",
       "    </tr>\n",
       "    <tr>\n",
       "      <th>4</th>\n",
       "      <td>VIQUES</td>\n",
       "      <td>2010</td>\n",
       "      <td>1</td>\n",
       "      <td>5</td>\n",
       "      <td>4.8</td>\n",
       "      <td>17.5</td>\n",
       "      <td>9.4</td>\n",
       "    </tr>\n",
       "  </tbody>\n",
       "</table>\n",
       "</div>"
      ],
      "text/plain": [
       "  DISTRITO   AÑO  MES  DÍA  PRECIPITACIÓN  T MAX T MINIMA\n",
       "0   VIQUES  2010    1    1            0.0   21.4      7.8\n",
       "1   VIQUES  2010    1    2            8.8   19.8      7.8\n",
       "2   VIQUES  2010    1    3            2.5   20.8      8.8\n",
       "3   VIQUES  2010    1    4            8.5   18.9      9.1\n",
       "4   VIQUES  2010    1    5            4.8   17.5      9.4"
      ]
     },
     "execution_count": 26,
     "metadata": {},
     "output_type": "execute_result"
    }
   ],
   "source": [
    "import pandas as pd\n",
    "# read dataclima.csv\n",
    "df = pd.read_csv('dataclima.csv')\n",
    "df.head()"
   ]
  },
  {
   "cell_type": "code",
   "execution_count": 6,
   "metadata": {},
   "outputs": [
    {
     "name": "stdout",
     "output_type": "stream",
     "text": [
      "Unique values in 'DISTRITO' column:\n",
      "['VIQUES' 'EL TAMBO' 'HUACHAC' 'SANTA ROSA DE OCOPA' 'JAUJA' 'RICRAN']\n"
     ]
    }
   ],
   "source": [
    "unique_distritos = df['DISTRITO'].unique()\n",
    "print(\"Unique values in 'DISTRITO' column:\")\n",
    "print(unique_distritos)"
   ]
  },
  {
   "cell_type": "code",
   "execution_count": 18,
   "metadata": {},
   "outputs": [
    {
     "data": {
      "text/html": [
       "<div>\n",
       "<style scoped>\n",
       "    .dataframe tbody tr th:only-of-type {\n",
       "        vertical-align: middle;\n",
       "    }\n",
       "\n",
       "    .dataframe tbody tr th {\n",
       "        vertical-align: top;\n",
       "    }\n",
       "\n",
       "    .dataframe thead th {\n",
       "        text-align: right;\n",
       "    }\n",
       "</style>\n",
       "<table border=\"1\" class=\"dataframe\">\n",
       "  <thead>\n",
       "    <tr style=\"text-align: right;\">\n",
       "      <th></th>\n",
       "      <th>DISTRITO</th>\n",
       "      <th>AÑO</th>\n",
       "      <th>MES</th>\n",
       "      <th>DÍA</th>\n",
       "      <th>PRECIPITACIÓN</th>\n",
       "      <th>T MAX</th>\n",
       "      <th>T MINIMA</th>\n",
       "    </tr>\n",
       "  </thead>\n",
       "  <tbody>\n",
       "    <tr>\n",
       "      <th>0</th>\n",
       "      <td>VIQUES</td>\n",
       "      <td>2010</td>\n",
       "      <td>1</td>\n",
       "      <td>1</td>\n",
       "      <td>0.0</td>\n",
       "      <td>21.4</td>\n",
       "      <td>7.8</td>\n",
       "    </tr>\n",
       "    <tr>\n",
       "      <th>1</th>\n",
       "      <td>VIQUES</td>\n",
       "      <td>2010</td>\n",
       "      <td>1</td>\n",
       "      <td>2</td>\n",
       "      <td>8.8</td>\n",
       "      <td>19.8</td>\n",
       "      <td>7.8</td>\n",
       "    </tr>\n",
       "    <tr>\n",
       "      <th>2</th>\n",
       "      <td>VIQUES</td>\n",
       "      <td>2010</td>\n",
       "      <td>1</td>\n",
       "      <td>3</td>\n",
       "      <td>2.5</td>\n",
       "      <td>20.8</td>\n",
       "      <td>8.8</td>\n",
       "    </tr>\n",
       "    <tr>\n",
       "      <th>3</th>\n",
       "      <td>VIQUES</td>\n",
       "      <td>2010</td>\n",
       "      <td>1</td>\n",
       "      <td>4</td>\n",
       "      <td>8.5</td>\n",
       "      <td>18.9</td>\n",
       "      <td>9.1</td>\n",
       "    </tr>\n",
       "    <tr>\n",
       "      <th>4</th>\n",
       "      <td>VIQUES</td>\n",
       "      <td>2010</td>\n",
       "      <td>1</td>\n",
       "      <td>5</td>\n",
       "      <td>4.8</td>\n",
       "      <td>17.5</td>\n",
       "      <td>9.4</td>\n",
       "    </tr>\n",
       "  </tbody>\n",
       "</table>\n",
       "</div>"
      ],
      "text/plain": [
       "  DISTRITO   AÑO  MES  DÍA  PRECIPITACIÓN  T MAX  T MINIMA\n",
       "0   VIQUES  2010    1    1            0.0   21.4       7.8\n",
       "1   VIQUES  2010    1    2            8.8   19.8       7.8\n",
       "2   VIQUES  2010    1    3            2.5   20.8       8.8\n",
       "3   VIQUES  2010    1    4            8.5   18.9       9.1\n",
       "4   VIQUES  2010    1    5            4.8   17.5       9.4"
      ]
     },
     "execution_count": 18,
     "metadata": {},
     "output_type": "execute_result"
    }
   ],
   "source": [
    "# ensure all columns other tan distrito are numeric\n",
    "# Ensure all columns other than 'DISTRITO' are numeric\n",
    "for column in df.columns:\n",
    "    if column != 'DISTRITO':\n",
    "        df[column] = pd.to_numeric(df[column], errors='coerce')\n",
    "\n",
    "# Display the first few rows to verify the changes\n",
    "df.head()"
   ]
  },
  {
   "cell_type": "code",
   "execution_count": 23,
   "metadata": {},
   "outputs": [],
   "source": [
    "cities = [\"JAUJA\", \"VIQUES\", \"EL TAMBO\", \"HUACHAC\", \"SANTA ROSA DE OCOPA\", \"RICRAN\"]\n",
    "locations = {\n",
    "\t\"JAUJA\": [-11.774541, -75.484053],\n",
    "\t\"VIQUES\":[-12.159793, -75.231618],\n",
    "\t\"EL TAMBO\":[-12.059247, -75.214703],\n",
    "\t\"HUACHAC\":[-12.059247, -75.214703],\n",
    "\t\"SANTA ROSA DE OCOPA\": [-11.877194, -75.297825],\n",
    "\t\"RICRAN\": [-11.541854, -75.521856]\n",
    "}\n",
    "\n",
    "conditions = {\n",
    "\t\"JAUJA\": \"Jauja es conocida por su clima templado y suelos fértiles, ideales para el cultivo de papa, maíz y hortalizas.\",\n",
    "\t\"VIQUES\": \"Viques tiene un clima variado con temporadas de lluvia, adecuado para la agricultura de subsistencia y cultivos de cereales.\",\n",
    "\t\"EL TAMBO\": \"El Tambo es una zona agrícola importante con producción de frutas, verduras y flores debido a su clima favorable.\",\n",
    "\t\"HUACHAC\": \"Huachac cuenta con un clima templado y es conocida por la producción de papa y otros tubérculos.\",\n",
    "\t\"SANTA ROSA DE OCOPA\": \"Santa Rosa de Ocopa tiene un clima fresco y húmedo, ideal para el cultivo de café y otros productos agrícolas.\",\n",
    "\t\"RICRAN\": \"Ricran es una zona con clima variado, adecuada para la agricultura de subsistencia y cultivos de cereales.\"\n",
    "}\n"
   ]
  },
  {
   "cell_type": "code",
   "execution_count": 19,
   "metadata": {},
   "outputs": [
    {
     "data": {
      "text/html": [
       "<div>\n",
       "<style scoped>\n",
       "    .dataframe tbody tr th:only-of-type {\n",
       "        vertical-align: middle;\n",
       "    }\n",
       "\n",
       "    .dataframe tbody tr th {\n",
       "        vertical-align: top;\n",
       "    }\n",
       "\n",
       "    .dataframe thead th {\n",
       "        text-align: right;\n",
       "    }\n",
       "</style>\n",
       "<table border=\"1\" class=\"dataframe\">\n",
       "  <thead>\n",
       "    <tr style=\"text-align: right;\">\n",
       "      <th></th>\n",
       "      <th>AÑO</th>\n",
       "      <th>MES</th>\n",
       "      <th>DÍA</th>\n",
       "      <th>PRECIPITACIÓN</th>\n",
       "      <th>T MAX</th>\n",
       "      <th>T MINIMA</th>\n",
       "    </tr>\n",
       "    <tr>\n",
       "      <th>DISTRITO</th>\n",
       "      <th></th>\n",
       "      <th></th>\n",
       "      <th></th>\n",
       "      <th></th>\n",
       "      <th></th>\n",
       "      <th></th>\n",
       "    </tr>\n",
       "  </thead>\n",
       "  <tbody>\n",
       "    <tr>\n",
       "      <th>EL TAMBO</th>\n",
       "      <td>2011.734491</td>\n",
       "      <td>6.194169</td>\n",
       "      <td>15.719603</td>\n",
       "      <td>2.407878</td>\n",
       "      <td>20.121538</td>\n",
       "      <td>4.239888</td>\n",
       "    </tr>\n",
       "    <tr>\n",
       "      <th>HUACHAC</th>\n",
       "      <td>2011.363704</td>\n",
       "      <td>6.159821</td>\n",
       "      <td>15.727409</td>\n",
       "      <td>-2.700075</td>\n",
       "      <td>14.708364</td>\n",
       "      <td>-0.455265</td>\n",
       "    </tr>\n",
       "    <tr>\n",
       "      <th>JAUJA</th>\n",
       "      <td>2011.101386</td>\n",
       "      <td>6.267764</td>\n",
       "      <td>15.699307</td>\n",
       "      <td>-0.471490</td>\n",
       "      <td>16.422617</td>\n",
       "      <td>0.343141</td>\n",
       "    </tr>\n",
       "    <tr>\n",
       "      <th>RICRAN</th>\n",
       "      <td>2011.734491</td>\n",
       "      <td>6.194169</td>\n",
       "      <td>15.719603</td>\n",
       "      <td>2.452916</td>\n",
       "      <td>13.487984</td>\n",
       "      <td>3.296402</td>\n",
       "    </tr>\n",
       "    <tr>\n",
       "      <th>SANTA ROSA DE OCOPA</th>\n",
       "      <td>2011.734491</td>\n",
       "      <td>6.194169</td>\n",
       "      <td>15.719603</td>\n",
       "      <td>2.359584</td>\n",
       "      <td>18.703474</td>\n",
       "      <td>4.470596</td>\n",
       "    </tr>\n",
       "    <tr>\n",
       "      <th>VIQUES</th>\n",
       "      <td>2011.734491</td>\n",
       "      <td>6.194169</td>\n",
       "      <td>15.719603</td>\n",
       "      <td>2.434739</td>\n",
       "      <td>20.498449</td>\n",
       "      <td>6.134119</td>\n",
       "    </tr>\n",
       "  </tbody>\n",
       "</table>\n",
       "</div>"
      ],
      "text/plain": [
       "                             AÑO       MES        DÍA  PRECIPITACIÓN  \\\n",
       "DISTRITO                                                               \n",
       "EL TAMBO             2011.734491  6.194169  15.719603       2.407878   \n",
       "HUACHAC              2011.363704  6.159821  15.727409      -2.700075   \n",
       "JAUJA                2011.101386  6.267764  15.699307      -0.471490   \n",
       "RICRAN               2011.734491  6.194169  15.719603       2.452916   \n",
       "SANTA ROSA DE OCOPA  2011.734491  6.194169  15.719603       2.359584   \n",
       "VIQUES               2011.734491  6.194169  15.719603       2.434739   \n",
       "\n",
       "                         T MAX  T MINIMA  \n",
       "DISTRITO                                  \n",
       "EL TAMBO             20.121538  4.239888  \n",
       "HUACHAC              14.708364 -0.455265  \n",
       "JAUJA                16.422617  0.343141  \n",
       "RICRAN               13.487984  3.296402  \n",
       "SANTA ROSA DE OCOPA  18.703474  4.470596  \n",
       "VIQUES               20.498449  6.134119  "
      ]
     },
     "execution_count": 19,
     "metadata": {},
     "output_type": "execute_result"
    }
   ],
   "source": [
    "# Select only numeric columns for grouping\n",
    "numeric_columns = df.select_dtypes(include='number').columns\n",
    "grouped = df.groupby('DISTRITO')[numeric_columns].mean()\n",
    "grouped"
   ]
  },
  {
   "cell_type": "code",
   "execution_count": 24,
   "metadata": {},
   "outputs": [
    {
     "name": "stdout",
     "output_type": "stream",
     "text": [
      "{'city': 'EL TAMBO', 'description': 'El Tambo es una zona agrícola importante con producción de frutas, verduras y flores debido a su clima favorable.', 'precipitation': np.float64(2.4078784119106698), 'maxt': np.float64(20.12153846153846), 'mint': np.float64(4.239888337468982), 'lon': -75.214703, 'lat': -12.059247, 'meta': 'attributes: city, description, precipitation (mm), maxt (C), mint (C), lon, lat'}\n",
      "{'city': 'HUACHAC', 'description': 'Huachac cuenta con un clima templado y es conocida por la producción de papa y otros tubérculos.', 'precipitation': np.float64(-2.700074682598955), 'maxt': np.float64(14.708364451082897), 'mint': np.float64(-0.45526512322628854), 'lon': -75.214703, 'lat': -12.059247, 'meta': 'attributes: city, description, precipitation (mm), maxt (C), mint (C), lon, lat'}\n",
      "{'city': 'JAUJA', 'description': 'Jauja es conocida por su clima templado y suelos fértiles, ideales para el cultivo de papa, maíz y hortalizas.', 'precipitation': np.float64(-0.47149046793760846), 'maxt': np.float64(16.42261698440208), 'mint': np.float64(0.34314079422382643), 'lon': -75.484053, 'lat': -11.774541, 'meta': 'attributes: city, description, precipitation (mm), maxt (C), mint (C), lon, lat'}\n",
      "{'city': 'RICRAN', 'description': 'Ricran es una zona con clima variado, adecuada para la agricultura de subsistencia y cultivos de cereales.', 'precipitation': np.float64(2.452915632754342), 'maxt': np.float64(13.487983870967742), 'mint': np.float64(3.296401985111663), 'lon': -75.521856, 'lat': -11.541854, 'meta': 'attributes: city, description, precipitation (mm), maxt (C), mint (C), lon, lat'}\n",
      "{'city': 'SANTA ROSA DE OCOPA', 'description': 'Santa Rosa de Ocopa tiene un clima fresco y húmedo, ideal para el cultivo de café y otros productos agrícolas.', 'precipitation': np.float64(2.359584367245658), 'maxt': np.float64(18.703473945409428), 'mint': np.float64(4.470595533498759), 'lon': -75.297825, 'lat': -11.877194, 'meta': 'attributes: city, description, precipitation (mm), maxt (C), mint (C), lon, lat'}\n",
      "{'city': 'VIQUES', 'description': 'Viques tiene un clima variado con temporadas de lluvia, adecuado para la agricultura de subsistencia y cultivos de cereales.', 'precipitation': np.float64(2.434739454094293), 'maxt': np.float64(20.49844913151365), 'mint': np.float64(6.134119106699752), 'lon': -75.231618, 'lat': -12.159793, 'meta': 'attributes: city, description, precipitation (mm), maxt (C), mint (C), lon, lat'}\n"
     ]
    }
   ],
   "source": [
    "# for every city calculate the averages\n",
    "\n",
    "# Create a list of dictionaries with the required attributes\n",
    "city_data = []\n",
    "for city, data in grouped.iterrows():\n",
    "    city_info = {\n",
    "        'city': city,\n",
    "        'description': conditions[city],  # Placeholder description\n",
    "        'precipitation': data['PRECIPITACIÓN'],\n",
    "        'maxt': data['T MAX'],\n",
    "        'mint': data['T MINIMA'],\n",
    "        'lon': locations[city][1],\n",
    "        'lat': locations[city][0],\n",
    "        'meta': 'attributes: city, description, precipitation (mm), maxt (C), mint (C), lon, lat'\n",
    "    }\n",
    "    city_data.append(city_info)\n",
    "\n",
    "# Print the list of dictionaries\n",
    "for city in city_data:\n",
    "    print(city)"
   ]
  },
  {
   "cell_type": "code",
   "execution_count": 25,
   "metadata": {},
   "outputs": [],
   "source": [
    "import json\n",
    "# Save the city_data as a JSON file called climate.json\n",
    "climate_data = {\"climate\": city_data}\n",
    "with open('climate.json', 'w') as json_file:\n",
    "    json.dump(climate_data, json_file, indent=4)"
   ]
  },
  {
   "cell_type": "code",
   "execution_count": null,
   "metadata": {},
   "outputs": [],
   "source": [
    "import json\n",
    "# Save the city_data as a JSON file called climate.json\n",
    "climate_data = {\"climate\": city_data}\n",
    "with open('climate.json', 'w') as json_file:\n",
    "    json.dump(climate_data, json_file, indent=4)"
   ]
  }
 ],
 "metadata": {
  "kernelspec": {
   "display_name": ".venv",
   "language": "python",
   "name": "python3"
  },
  "language_info": {
   "codemirror_mode": {
    "name": "ipython",
    "version": 3
   },
   "file_extension": ".py",
   "mimetype": "text/x-python",
   "name": "python",
   "nbconvert_exporter": "python",
   "pygments_lexer": "ipython3",
   "version": "3.12.0"
  }
 },
 "nbformat": 4,
 "nbformat_minor": 2
}
